{
 "cells": [
  {
   "cell_type": "code",
   "execution_count": 1,
   "id": "10a77117",
   "metadata": {},
   "outputs": [
    {
     "data": {
      "text/html": [
       "        <script type=\"text/javascript\">\n",
       "        window.PlotlyConfig = {MathJaxConfig: 'local'};\n",
       "        if (window.MathJax && window.MathJax.Hub && window.MathJax.Hub.Config) {window.MathJax.Hub.Config({SVG: {font: \"STIX-Web\"}});}\n",
       "        if (typeof require !== 'undefined') {\n",
       "        require.undef(\"plotly\");\n",
       "        requirejs.config({\n",
       "            paths: {\n",
       "                'plotly': ['https://cdn.plot.ly/plotly-2.12.1.min']\n",
       "            }\n",
       "        });\n",
       "        require(['plotly'], function(Plotly) {\n",
       "            window._Plotly = Plotly;\n",
       "        });\n",
       "        }\n",
       "        </script>\n",
       "        "
      ]
     },
     "metadata": {},
     "output_type": "display_data"
    }
   ],
   "source": [
    "# Importing all the Required Libraries\n",
    "\n",
    "import pandas as pd\n",
    "import numpy as np\n",
    "import matplotlib.pyplot as plt\n",
    "import plotly.express as px\n",
    "import plotly.graph_objects as go\n",
    "from plotly.subplots import make_subplots\n",
    "from plotly.offline import init_notebook_mode\n",
    "import seaborn as sns\n",
    "import datetime as dt\n",
    "import warnings\n",
    "warnings.filterwarnings('ignore')\n",
    "pd.set_option('display.max_columns',None)\n",
    "init_notebook_mode(connected=True)"
   ]
  },
  {
   "cell_type": "code",
   "execution_count": 2,
   "id": "d677bcc6",
   "metadata": {},
   "outputs": [
    {
     "name": "stdout",
     "output_type": "stream",
     "text": [
      "C:\\Users\\sciber\\Downloads\\2024 Spring URP\\kpopradar_dlab_2024S\n"
     ]
    }
   ],
   "source": [
    "import os\n",
    "current_directory = os.getcwd()\n",
    "print(current_directory) "
   ]
  },
  {
   "cell_type": "code",
   "execution_count": 5,
   "id": "7225ef82",
   "metadata": {},
   "outputs": [],
   "source": [
    "df=pd.read_csv('../original_data/KAIST_kpopradar_youtube_channel_20230930.csv')"
   ]
  },
  {
   "cell_type": "code",
   "execution_count": 6,
   "id": "8017e305",
   "metadata": {},
   "outputs": [
    {
     "data": {
      "text/html": [
       "<div>\n",
       "<style scoped>\n",
       "    .dataframe tbody tr th:only-of-type {\n",
       "        vertical-align: middle;\n",
       "    }\n",
       "\n",
       "    .dataframe tbody tr th {\n",
       "        vertical-align: top;\n",
       "    }\n",
       "\n",
       "    .dataframe thead th {\n",
       "        text-align: right;\n",
       "    }\n",
       "</style>\n",
       "<table border=\"1\" class=\"dataframe\">\n",
       "  <thead>\n",
       "    <tr style=\"text-align: right;\">\n",
       "      <th></th>\n",
       "      <th>artist_id</th>\n",
       "      <th>artist_name</th>\n",
       "      <th>account_name</th>\n",
       "      <th>url</th>\n",
       "      <th>date</th>\n",
       "      <th>subscriber_count</th>\n",
       "    </tr>\n",
       "  </thead>\n",
       "  <tbody>\n",
       "    <tr>\n",
       "      <th>0</th>\n",
       "      <td>5</td>\n",
       "      <td>TWICE (트와이스)</td>\n",
       "      <td>TWICE</td>\n",
       "      <td>https://www.youtube.com/channel/UCzgxx_DM2Dcb9...</td>\n",
       "      <td>20180928</td>\n",
       "      <td>2915585</td>\n",
       "    </tr>\n",
       "    <tr>\n",
       "      <th>1</th>\n",
       "      <td>31</td>\n",
       "      <td>비투비</td>\n",
       "      <td>BTOB 비투비 (Official YouTube Channel)</td>\n",
       "      <td>https://www.youtube.com/channel/UCgB7A457ULlgm...</td>\n",
       "      <td>20180928</td>\n",
       "      <td>1196850</td>\n",
       "    </tr>\n",
       "    <tr>\n",
       "      <th>2</th>\n",
       "      <td>272</td>\n",
       "      <td>EXO</td>\n",
       "      <td>EXO</td>\n",
       "      <td>https://www.youtube.com/channel/UCzCedBCSSltI1...</td>\n",
       "      <td>20180928</td>\n",
       "      <td>1750403</td>\n",
       "    </tr>\n",
       "    <tr>\n",
       "      <th>3</th>\n",
       "      <td>273</td>\n",
       "      <td>방탄소년단</td>\n",
       "      <td>BANGTANTV</td>\n",
       "      <td>https://www.youtube.com/channel/UCLkAepWjdylmX...</td>\n",
       "      <td>20180928</td>\n",
       "      <td>11746717</td>\n",
       "    </tr>\n",
       "    <tr>\n",
       "      <th>4</th>\n",
       "      <td>278</td>\n",
       "      <td>인피니트</td>\n",
       "      <td>NaN</td>\n",
       "      <td>https://www.youtube.com/channel/UCdzXSux7OnRD1...</td>\n",
       "      <td>20180928</td>\n",
       "      <td>380668</td>\n",
       "    </tr>\n",
       "  </tbody>\n",
       "</table>\n",
       "</div>"
      ],
      "text/plain": [
       "   artist_id   artist_name                         account_name  \\\n",
       "0          5  TWICE (트와이스)                               TWICE    \n",
       "1         31           비투비  BTOB 비투비 (Official YouTube Channel)   \n",
       "2        272           EXO                                  EXO   \n",
       "3        273         방탄소년단                           BANGTANTV    \n",
       "4        278          인피니트                                  NaN   \n",
       "\n",
       "                                                 url      date  \\\n",
       "0  https://www.youtube.com/channel/UCzgxx_DM2Dcb9...  20180928   \n",
       "1  https://www.youtube.com/channel/UCgB7A457ULlgm...  20180928   \n",
       "2  https://www.youtube.com/channel/UCzCedBCSSltI1...  20180928   \n",
       "3  https://www.youtube.com/channel/UCLkAepWjdylmX...  20180928   \n",
       "4  https://www.youtube.com/channel/UCdzXSux7OnRD1...  20180928   \n",
       "\n",
       "   subscriber_count  \n",
       "0           2915585  \n",
       "1           1196850  \n",
       "2           1750403  \n",
       "3          11746717  \n",
       "4            380668  "
      ]
     },
     "execution_count": 6,
     "metadata": {},
     "output_type": "execute_result"
    }
   ],
   "source": [
    "df.head()"
   ]
  },
  {
   "cell_type": "code",
   "execution_count": 7,
   "id": "dec8dde3",
   "metadata": {},
   "outputs": [
    {
     "name": "stdout",
     "output_type": "stream",
     "text": [
      "<class 'pandas.core.frame.DataFrame'>\n",
      "RangeIndex: 708694 entries, 0 to 708693\n",
      "Data columns (total 6 columns):\n",
      " #   Column            Non-Null Count   Dtype \n",
      "---  ------            --------------   ----- \n",
      " 0   artist_id         708694 non-null  int64 \n",
      " 1   artist_name       708694 non-null  object\n",
      " 2   account_name      227259 non-null  object\n",
      " 3   url               708694 non-null  object\n",
      " 4   date              708694 non-null  int64 \n",
      " 5   subscriber_count  708694 non-null  int64 \n",
      "dtypes: int64(3), object(3)\n",
      "memory usage: 32.4+ MB\n"
     ]
    }
   ],
   "source": [
    "df.info()"
   ]
  },
  {
   "cell_type": "code",
   "execution_count": 8,
   "id": "767ea368",
   "metadata": {},
   "outputs": [
    {
     "data": {
      "text/plain": [
       "False    708694\n",
       "Name: count, dtype: int64"
      ]
     },
     "execution_count": 8,
     "metadata": {},
     "output_type": "execute_result"
    }
   ],
   "source": [
    "#checking for duplicate values\n",
    "df.duplicated().value_counts()"
   ]
  },
  {
   "cell_type": "code",
   "execution_count": 9,
   "id": "0bf588b7-c0cc-4b7d-8e5f-d04e05724759",
   "metadata": {},
   "outputs": [
    {
     "data": {
      "text/plain": [
       "(708694, 6)"
      ]
     },
     "execution_count": 9,
     "metadata": {},
     "output_type": "execute_result"
    }
   ],
   "source": [
    "df.shape"
   ]
  },
  {
   "cell_type": "code",
   "execution_count": 11,
   "id": "0a969939-e456-4094-9bb6-ad223ee3c849",
   "metadata": {},
   "outputs": [
    {
     "data": {
      "text/html": [
       "<div>\n",
       "<style scoped>\n",
       "    .dataframe tbody tr th:only-of-type {\n",
       "        vertical-align: middle;\n",
       "    }\n",
       "\n",
       "    .dataframe tbody tr th {\n",
       "        vertical-align: top;\n",
       "    }\n",
       "\n",
       "    .dataframe thead th {\n",
       "        text-align: right;\n",
       "    }\n",
       "</style>\n",
       "<table border=\"1\" class=\"dataframe\">\n",
       "  <thead>\n",
       "    <tr style=\"text-align: right;\">\n",
       "      <th></th>\n",
       "      <th>artist_id</th>\n",
       "      <th>date</th>\n",
       "      <th>subscriber_count</th>\n",
       "    </tr>\n",
       "  </thead>\n",
       "  <tbody>\n",
       "    <tr>\n",
       "      <th>count</th>\n",
       "      <td>708694</td>\n",
       "      <td>708694</td>\n",
       "      <td>708694</td>\n",
       "    </tr>\n",
       "    <tr>\n",
       "      <th>mean</th>\n",
       "      <td>900</td>\n",
       "      <td>20212087</td>\n",
       "      <td>937334</td>\n",
       "    </tr>\n",
       "    <tr>\n",
       "      <th>std</th>\n",
       "      <td>643</td>\n",
       "      <td>12863</td>\n",
       "      <td>4219261</td>\n",
       "    </tr>\n",
       "    <tr>\n",
       "      <th>min</th>\n",
       "      <td>4</td>\n",
       "      <td>20180928</td>\n",
       "      <td>0</td>\n",
       "    </tr>\n",
       "    <tr>\n",
       "      <th>25%</th>\n",
       "      <td>324</td>\n",
       "      <td>20200814</td>\n",
       "      <td>15300</td>\n",
       "    </tr>\n",
       "    <tr>\n",
       "      <th>50%</th>\n",
       "      <td>767</td>\n",
       "      <td>20210916</td>\n",
       "      <td>125000</td>\n",
       "    </tr>\n",
       "    <tr>\n",
       "      <th>75%</th>\n",
       "      <td>1489</td>\n",
       "      <td>20220917</td>\n",
       "      <td>587000</td>\n",
       "    </tr>\n",
       "    <tr>\n",
       "      <th>max</th>\n",
       "      <td>2730</td>\n",
       "      <td>20230930</td>\n",
       "      <td>91500000</td>\n",
       "    </tr>\n",
       "  </tbody>\n",
       "</table>\n",
       "</div>"
      ],
      "text/plain": [
       "       artist_id      date  subscriber_count\n",
       "count     708694    708694            708694\n",
       "mean         900  20212087            937334\n",
       "std          643     12863           4219261\n",
       "min            4  20180928                 0\n",
       "25%          324  20200814             15300\n",
       "50%          767  20210916            125000\n",
       "75%         1489  20220917            587000\n",
       "max         2730  20230930          91500000"
      ]
     },
     "execution_count": 11,
     "metadata": {},
     "output_type": "execute_result"
    }
   ],
   "source": [
    "# Description of the Data\n",
    "df.describe().astype(int)"
   ]
  },
  {
   "cell_type": "code",
   "execution_count": 51,
   "id": "f43e613e-3f83-4fa2-a45f-aedc2673dd8f",
   "metadata": {},
   "outputs": [],
   "source": [
    "# Get specified data for BLACKPINK artist_name, type conversion of 'date' column to datetime\n",
    "\n",
    "BLACKPINK_df = df[df['artist_name'] == 'BLACKPINK'].sort_values('date')\n",
    "BLACKPINK_df['date'] = pd.to_datetime(BLACKPINK_df['date'], format='%Y%m%d')"
   ]
  },
  {
   "cell_type": "code",
   "execution_count": 60,
   "id": "9246ef2c-3aa8-42ca-87ea-31fd6b7fef91",
   "metadata": {},
   "outputs": [
    {
     "data": {
      "text/html": [
       "<div>\n",
       "<style scoped>\n",
       "    .dataframe tbody tr th:only-of-type {\n",
       "        vertical-align: middle;\n",
       "    }\n",
       "\n",
       "    .dataframe tbody tr th {\n",
       "        vertical-align: top;\n",
       "    }\n",
       "\n",
       "    .dataframe thead th {\n",
       "        text-align: right;\n",
       "    }\n",
       "</style>\n",
       "<table border=\"1\" class=\"dataframe\">\n",
       "  <thead>\n",
       "    <tr style=\"text-align: right;\">\n",
       "      <th></th>\n",
       "      <th>artist_id</th>\n",
       "      <th>artist_name</th>\n",
       "      <th>account_name</th>\n",
       "      <th>url</th>\n",
       "      <th>date</th>\n",
       "      <th>subscriber_count</th>\n",
       "    </tr>\n",
       "  </thead>\n",
       "  <tbody>\n",
       "    <tr>\n",
       "      <th>24</th>\n",
       "      <td>326</td>\n",
       "      <td>BLACKPINK</td>\n",
       "      <td>BLACKPINK</td>\n",
       "      <td>https://www.youtube.com/channel/UCOmHUn--16B90...</td>\n",
       "      <td>2018-09-28</td>\n",
       "      <td>12125238</td>\n",
       "    </tr>\n",
       "    <tr>\n",
       "      <th>84</th>\n",
       "      <td>326</td>\n",
       "      <td>BLACKPINK</td>\n",
       "      <td>BLACKPINK</td>\n",
       "      <td>https://www.youtube.com/channel/UCOmHUn--16B90...</td>\n",
       "      <td>2018-09-29</td>\n",
       "      <td>12160193</td>\n",
       "    </tr>\n",
       "    <tr>\n",
       "      <th>147</th>\n",
       "      <td>326</td>\n",
       "      <td>BLACKPINK</td>\n",
       "      <td>BLACKPINK</td>\n",
       "      <td>https://www.youtube.com/channel/UCOmHUn--16B90...</td>\n",
       "      <td>2018-09-30</td>\n",
       "      <td>12193787</td>\n",
       "    </tr>\n",
       "    <tr>\n",
       "      <th>210</th>\n",
       "      <td>326</td>\n",
       "      <td>BLACKPINK</td>\n",
       "      <td>BLACKPINK</td>\n",
       "      <td>https://www.youtube.com/channel/UCOmHUn--16B90...</td>\n",
       "      <td>2018-10-01</td>\n",
       "      <td>12219565</td>\n",
       "    </tr>\n",
       "    <tr>\n",
       "      <th>273</th>\n",
       "      <td>326</td>\n",
       "      <td>BLACKPINK</td>\n",
       "      <td>BLACKPINK</td>\n",
       "      <td>https://www.youtube.com/channel/UCOmHUn--16B90...</td>\n",
       "      <td>2018-10-02</td>\n",
       "      <td>12244366</td>\n",
       "    </tr>\n",
       "    <tr>\n",
       "      <th>...</th>\n",
       "      <td>...</td>\n",
       "      <td>...</td>\n",
       "      <td>...</td>\n",
       "      <td>...</td>\n",
       "      <td>...</td>\n",
       "      <td>...</td>\n",
       "    </tr>\n",
       "    <tr>\n",
       "      <th>706049</th>\n",
       "      <td>326</td>\n",
       "      <td>BLACKPINK</td>\n",
       "      <td>BLACKPINK</td>\n",
       "      <td>https://www.youtube.com/channel/UCOmHUn--16B90...</td>\n",
       "      <td>2023-09-26</td>\n",
       "      <td>91400000</td>\n",
       "    </tr>\n",
       "    <tr>\n",
       "      <th>706600</th>\n",
       "      <td>326</td>\n",
       "      <td>BLACKPINK</td>\n",
       "      <td>BLACKPINK</td>\n",
       "      <td>https://www.youtube.com/channel/UCOmHUn--16B90...</td>\n",
       "      <td>2023-09-27</td>\n",
       "      <td>91400000</td>\n",
       "    </tr>\n",
       "    <tr>\n",
       "      <th>707151</th>\n",
       "      <td>326</td>\n",
       "      <td>BLACKPINK</td>\n",
       "      <td>BLACKPINK</td>\n",
       "      <td>https://www.youtube.com/channel/UCOmHUn--16B90...</td>\n",
       "      <td>2023-09-28</td>\n",
       "      <td>91500000</td>\n",
       "    </tr>\n",
       "    <tr>\n",
       "      <th>707702</th>\n",
       "      <td>326</td>\n",
       "      <td>BLACKPINK</td>\n",
       "      <td>BLACKPINK</td>\n",
       "      <td>https://www.youtube.com/channel/UCOmHUn--16B90...</td>\n",
       "      <td>2023-09-29</td>\n",
       "      <td>91500000</td>\n",
       "    </tr>\n",
       "    <tr>\n",
       "      <th>708253</th>\n",
       "      <td>326</td>\n",
       "      <td>BLACKPINK</td>\n",
       "      <td>BLACKPINK</td>\n",
       "      <td>https://www.youtube.com/channel/UCOmHUn--16B90...</td>\n",
       "      <td>2023-09-30</td>\n",
       "      <td>91500000</td>\n",
       "    </tr>\n",
       "  </tbody>\n",
       "</table>\n",
       "<p>1789 rows × 6 columns</p>\n",
       "</div>"
      ],
      "text/plain": [
       "        artist_id artist_name account_name  \\\n",
       "24            326   BLACKPINK    BLACKPINK   \n",
       "84            326   BLACKPINK    BLACKPINK   \n",
       "147           326   BLACKPINK    BLACKPINK   \n",
       "210           326   BLACKPINK    BLACKPINK   \n",
       "273           326   BLACKPINK    BLACKPINK   \n",
       "...           ...         ...          ...   \n",
       "706049        326   BLACKPINK    BLACKPINK   \n",
       "706600        326   BLACKPINK    BLACKPINK   \n",
       "707151        326   BLACKPINK    BLACKPINK   \n",
       "707702        326   BLACKPINK    BLACKPINK   \n",
       "708253        326   BLACKPINK    BLACKPINK   \n",
       "\n",
       "                                                      url       date  \\\n",
       "24      https://www.youtube.com/channel/UCOmHUn--16B90... 2018-09-28   \n",
       "84      https://www.youtube.com/channel/UCOmHUn--16B90... 2018-09-29   \n",
       "147     https://www.youtube.com/channel/UCOmHUn--16B90... 2018-09-30   \n",
       "210     https://www.youtube.com/channel/UCOmHUn--16B90... 2018-10-01   \n",
       "273     https://www.youtube.com/channel/UCOmHUn--16B90... 2018-10-02   \n",
       "...                                                   ...        ...   \n",
       "706049  https://www.youtube.com/channel/UCOmHUn--16B90... 2023-09-26   \n",
       "706600  https://www.youtube.com/channel/UCOmHUn--16B90... 2023-09-27   \n",
       "707151  https://www.youtube.com/channel/UCOmHUn--16B90... 2023-09-28   \n",
       "707702  https://www.youtube.com/channel/UCOmHUn--16B90... 2023-09-29   \n",
       "708253  https://www.youtube.com/channel/UCOmHUn--16B90... 2023-09-30   \n",
       "\n",
       "        subscriber_count  \n",
       "24              12125238  \n",
       "84              12160193  \n",
       "147             12193787  \n",
       "210             12219565  \n",
       "273             12244366  \n",
       "...                  ...  \n",
       "706049          91400000  \n",
       "706600          91400000  \n",
       "707151          91500000  \n",
       "707702          91500000  \n",
       "708253          91500000  \n",
       "\n",
       "[1789 rows x 6 columns]"
      ]
     },
     "execution_count": 60,
     "metadata": {},
     "output_type": "execute_result"
    }
   ],
   "source": [
    "BLACKPINK_df"
   ]
  },
  {
   "cell_type": "code",
   "execution_count": 69,
   "id": "584e969f-11ec-4e4b-b3e4-5b341650d11b",
   "metadata": {},
   "outputs": [],
   "source": [
    "from matplotlib.ticker import ScalarFormatter, MaxNLocator"
   ]
  },
  {
   "cell_type": "code",
   "execution_count": 72,
   "id": "a6dcaf2f-2f8b-4587-b12c-09ebe4421607",
   "metadata": {},
   "outputs": [
    {
     "data": {
      "image/png": "[encoded data removed]",
      "text/plain": [
       "<Figure size 1500x800 with 1 Axes>"
      ]
     },
     "metadata": {},
     "output_type": "display_data"
    }
   ],
   "source": [
    "# Replace 'specified_date' with the date you want to compare against (in datetime format)\n",
    "specified_date = pd.to_datetime('2022-01-01')\n",
    "\n",
    "# Filter the DataFrame to get rows with date greater than specified_date\n",
    "filtered_BLACKPINK_df = BLACKPINK_df[BLACKPINK_df['date'] > specified_date]\n",
    "\n",
    "plt.figure(figsize = (15,8))\n",
    "plt.plot(filtered_BLACKPINK_df['date'], filtered_BLACKPINK_df['subscriber_count'])\n",
    "\n",
    "# Apply ScalarFormatter to the y-axis (subscriber_count)\n",
    "plt.gca().yaxis.set_major_formatter(ScalarFormatter(useMathText=False))\n",
    "plt.ticklabel_format(style='plain', axis='y')  # Another way to disable scientific notation\n",
    "\n",
    "plt.title('BLACKPINK YouTube Subscribers')\n",
    "plt.xlabel('Date')\n",
    "plt.ylabel('Subscriber Count')\n",
    "\n",
    "plt.show()"
   ]
  },
  {
   "cell_type": "code",
   "execution_count": 73,
   "id": "adce9e6f-1fa2-4c1f-909b-b37c3933a42a",
   "metadata": {},
   "outputs": [
    {
     "data": {
      "image/png": "[encoded data removed]",
      "text/plain": [
       "<Figure size 1500x800 with 1 Axes>"
      ]
     },
     "metadata": {},
     "output_type": "display_data"
    }
   ],
   "source": [
    "# Replace 'specified_date' with the date you want to compare against (in datetime format)\n",
    "specified_date = pd.to_datetime('2018-01-01')\n",
    "\n",
    "# Filter the DataFrame to get rows with date greater than specified_date\n",
    "filtered_BLACKPINK_df = BLACKPINK_df[BLACKPINK_df['date'] > specified_date]\n",
    "\n",
    "plt.figure(figsize = (15,8))\n",
    "plt.plot(filtered_BLACKPINK_df['date'], filtered_BLACKPINK_df['subscriber_count'])\n",
    "\n",
    "# Apply ScalarFormatter to the y-axis (subscriber_count)\n",
    "plt.gca().yaxis.set_major_formatter(ScalarFormatter(useMathText=False))\n",
    "plt.ticklabel_format(style='plain', axis='y')  # Another way to disable scientific notation\n",
    "\n",
    "plt.title('BLACKPINK YouTube Subscribers')\n",
    "plt.xlabel('Date')\n",
    "plt.ylabel('Subscriber Count')\n",
    "\n",
    "plt.show()"
   ]
  },
  {
   "cell_type": "code",
   "execution_count": 1,
   "id": "32ebe88e-f189-4693-8464-ee26d5a01687",
   "metadata": {},
   "outputs": [],
   "source": [
    "#Goal: How to get monthly-splitted plot?"
   ]
  },
  {
   "cell_type": "code",
   "execution_count": null,
   "id": "3e21eddb-8d1d-4852-b62f-2f46c1d4311a",
   "metadata": {},
   "outputs": [],
   "source": [
    "# Replace 'specified_date' with the date you want to compare against (in datetime format)\n",
    "start_date = pd.to_datetime('2019-09-01') ### Change Here!\n",
    "end_date = pd.to_datetime('2021-04-01')\n",
    "quantity_name = 'subscriber_count' ### Type the column name of desired quantity!\n",
    "\n",
    "# Filter the DataFrame to get rows with date greater than specified_date\n",
    "filtered_BLACKPINK_df = BLACKPINK_df[(BLACKPINK_df['date'] > start_date) & (BLACKPINK_df['date'] < end_date)]\n",
    "\n",
    "plt.figure(figsize = (15,8))\n",
    "plt.plot(filtered_BLACKPINK_df['date'], filtered_BLACKPINK_df[quantity_name])\n",
    "\n",
    "# Apply ScalarFormatter to the y-axis (subscriber_count)\n",
    "plt.gca().yaxis.set_major_formatter(ScalarFormatter(useMathText=False))\n",
    "plt.ticklabel_format(style='plain', axis='y')  # Another way to disable scientific notation\n",
    "\n",
    "plt.gca().xaxis.set_major_locator(mdates.MonthLocator())\n",
    "plt.gca().xaxis.set_major_formatter(mdates.DateFormatter('%Y-%m'))\n",
    "\n",
    "# Show grid\n",
    "plt.grid(True)\n",
    "\n",
    "plt.title('BLACKPINK Twitter' + ' ' + quantity_name)\n",
    "plt.xlabel('Date')\n",
    "plt.ylabel(quantity_name)\n",
    "\n",
    "plt.show()"
   ]
  }
 ],
 "metadata": {
  "jupytext": {
   "formats": "ipynb,auto:light"
  },
  "kernelspec": {
   "display_name": "Python 3 (ipykernel)",
   "language": "python",
   "name": "python3"
  },
  "language_info": {
   "codemirror_mode": {
    "name": "ipython",
    "version": 3
   },
   "file_extension": ".py",
   "mimetype": "text/x-python",
   "name": "python",
   "nbconvert_exporter": "python",
   "pygments_lexer": "ipython3",
   "version": "3.11.5"
  }
 },
 "nbformat": 4,
 "nbformat_minor": 5
}
