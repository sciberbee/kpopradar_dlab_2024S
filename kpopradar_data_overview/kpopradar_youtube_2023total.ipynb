{
 "cells": [
  {
   "cell_type": "code",
   "execution_count": 1,
   "id": "8054bcb8-6551-4409-ae27-023cdc771cb3",
   "metadata": {},
   "outputs": [
    {
     "data": {
      "text/html": [
       "        <script type=\"text/javascript\">\n",
       "        window.PlotlyConfig = {MathJaxConfig: 'local'};\n",
       "        if (window.MathJax && window.MathJax.Hub && window.MathJax.Hub.Config) {window.MathJax.Hub.Config({SVG: {font: \"STIX-Web\"}});}\n",
       "        if (typeof require !== 'undefined') {\n",
       "        require.undef(\"plotly\");\n",
       "        requirejs.config({\n",
       "            paths: {\n",
       "                'plotly': ['https://cdn.plot.ly/plotly-2.12.1.min']\n",
       "            }\n",
       "        });\n",
       "        require(['plotly'], function(Plotly) {\n",
       "            window._Plotly = Plotly;\n",
       "        });\n",
       "        }\n",
       "        </script>\n",
       "        "
      ]
     },
     "metadata": {},
     "output_type": "display_data"
    }
   ],
   "source": [
    "# Importing all the Required Libraries\n",
    "\n",
    "import pandas as pd\n",
    "import numpy as np\n",
    "import matplotlib.pyplot as plt\n",
    "import plotly.express as px\n",
    "import plotly.graph_objects as go\n",
    "from plotly.subplots import make_subplots\n",
    "from plotly.offline import init_notebook_mode\n",
    "import seaborn as sns\n",
    "import datetime as dt\n",
    "import warnings\n",
    "warnings.filterwarnings('ignore')\n",
    "pd.set_option('display.max_columns',None)\n",
    "init_notebook_mode(connected=True)"
   ]
  },
  {
   "cell_type": "code",
   "execution_count": 2,
   "id": "5926e4a4-e524-46fb-8f4d-14949e4db64f",
   "metadata": {},
   "outputs": [],
   "source": [
    "df=pd.read_csv('../original_data/KAIST_artists_daily_20230930.csv')"
   ]
  },
  {
   "cell_type": "code",
   "execution_count": 3,
   "id": "d192b169-4d93-407c-bcf2-b2a066f8eff9",
   "metadata": {},
   "outputs": [
    {
     "data": {
      "text/html": [
       "<div>\n",
       "<style scoped>\n",
       "    .dataframe tbody tr th:only-of-type {\n",
       "        vertical-align: middle;\n",
       "    }\n",
       "\n",
       "    .dataframe tbody tr th {\n",
       "        vertical-align: top;\n",
       "    }\n",
       "\n",
       "    .dataframe thead th {\n",
       "        text-align: right;\n",
       "    }\n",
       "</style>\n",
       "<table border=\"1\" class=\"dataframe\">\n",
       "  <thead>\n",
       "    <tr style=\"text-align: right;\">\n",
       "      <th></th>\n",
       "      <th>id</th>\n",
       "      <th>name</th>\n",
       "      <th>date</th>\n",
       "      <th>viewcount</th>\n",
       "    </tr>\n",
       "  </thead>\n",
       "  <tbody>\n",
       "    <tr>\n",
       "      <th>0</th>\n",
       "      <td>11</td>\n",
       "      <td>엔플라잉 (N.Flying)</td>\n",
       "      <td>20210418</td>\n",
       "      <td>130470</td>\n",
       "    </tr>\n",
       "    <tr>\n",
       "      <th>1</th>\n",
       "      <td>1819</td>\n",
       "      <td>경리 (나인뮤지스)</td>\n",
       "      <td>20210418</td>\n",
       "      <td>360</td>\n",
       "    </tr>\n",
       "    <tr>\n",
       "      <th>2</th>\n",
       "      <td>1624</td>\n",
       "      <td>하동균</td>\n",
       "      <td>20210418</td>\n",
       "      <td>27206</td>\n",
       "    </tr>\n",
       "    <tr>\n",
       "      <th>3</th>\n",
       "      <td>1412</td>\n",
       "      <td>Lim Kim</td>\n",
       "      <td>20210418</td>\n",
       "      <td>12410</td>\n",
       "    </tr>\n",
       "    <tr>\n",
       "      <th>4</th>\n",
       "      <td>406</td>\n",
       "      <td>진</td>\n",
       "      <td>20210418</td>\n",
       "      <td>80212</td>\n",
       "    </tr>\n",
       "    <tr>\n",
       "      <th>...</th>\n",
       "      <td>...</td>\n",
       "      <td>...</td>\n",
       "      <td>...</td>\n",
       "      <td>...</td>\n",
       "    </tr>\n",
       "    <tr>\n",
       "      <th>584008</th>\n",
       "      <td>1390</td>\n",
       "      <td>효린</td>\n",
       "      <td>20230930</td>\n",
       "      <td>229198</td>\n",
       "    </tr>\n",
       "    <tr>\n",
       "      <th>584009</th>\n",
       "      <td>29</td>\n",
       "      <td>먼데이키즈 (Monday Kiz)</td>\n",
       "      <td>20230930</td>\n",
       "      <td>267403</td>\n",
       "    </tr>\n",
       "    <tr>\n",
       "      <th>584010</th>\n",
       "      <td>1183</td>\n",
       "      <td>SG 워너비</td>\n",
       "      <td>20230930</td>\n",
       "      <td>318909</td>\n",
       "    </tr>\n",
       "    <tr>\n",
       "      <th>584011</th>\n",
       "      <td>287</td>\n",
       "      <td>틴탑</td>\n",
       "      <td>20230930</td>\n",
       "      <td>63236</td>\n",
       "    </tr>\n",
       "    <tr>\n",
       "      <th>584012</th>\n",
       "      <td>779</td>\n",
       "      <td>태민 (TAEMIN)</td>\n",
       "      <td>20230930</td>\n",
       "      <td>145138</td>\n",
       "    </tr>\n",
       "  </tbody>\n",
       "</table>\n",
       "<p>584013 rows × 4 columns</p>\n",
       "</div>"
      ],
      "text/plain": [
       "          id                name      date  viewcount\n",
       "0         11     엔플라잉 (N.Flying)  20210418     130470\n",
       "1       1819          경리 (나인뮤지스)  20210418        360\n",
       "2       1624                 하동균  20210418      27206\n",
       "3       1412             Lim Kim  20210418      12410\n",
       "4        406                   진  20210418      80212\n",
       "...      ...                 ...       ...        ...\n",
       "584008  1390                  효린  20230930     229198\n",
       "584009    29  먼데이키즈 (Monday Kiz)  20230930     267403\n",
       "584010  1183              SG 워너비  20230930     318909\n",
       "584011   287                  틴탑  20230930      63236\n",
       "584012   779         태민 (TAEMIN)  20230930     145138\n",
       "\n",
       "[584013 rows x 4 columns]"
      ]
     },
     "execution_count": 3,
     "metadata": {},
     "output_type": "execute_result"
    }
   ],
   "source": [
    "df"
   ]
  },
  {
   "cell_type": "code",
   "execution_count": 4,
   "id": "d73f25eb-9603-4de6-83d6-c543945592d3",
   "metadata": {},
   "outputs": [
    {
     "data": {
      "text/plain": [
       "(687,)"
      ]
     },
     "execution_count": 4,
     "metadata": {},
     "output_type": "execute_result"
    }
   ],
   "source": [
    "df['id'].unique().shape"
   ]
  },
  {
   "cell_type": "code",
   "execution_count": 5,
   "id": "7d674ff1-7617-4edf-a245-361668edeaaa",
   "metadata": {},
   "outputs": [
    {
     "data": {
      "text/plain": [
       "(687,)"
      ]
     },
     "execution_count": 5,
     "metadata": {},
     "output_type": "execute_result"
    }
   ],
   "source": [
    "df['name'].unique().shape"
   ]
  },
  {
   "cell_type": "code",
   "execution_count": 6,
   "id": "b37a97a0-fba1-4fad-a494-cead9fc87df3",
   "metadata": {},
   "outputs": [
    {
     "data": {
      "text/html": [
       "<div>\n",
       "<style scoped>\n",
       "    .dataframe tbody tr th:only-of-type {\n",
       "        vertical-align: middle;\n",
       "    }\n",
       "\n",
       "    .dataframe tbody tr th {\n",
       "        vertical-align: top;\n",
       "    }\n",
       "\n",
       "    .dataframe thead th {\n",
       "        text-align: right;\n",
       "    }\n",
       "</style>\n",
       "<table border=\"1\" class=\"dataframe\">\n",
       "  <thead>\n",
       "    <tr style=\"text-align: right;\">\n",
       "      <th></th>\n",
       "      <th>id</th>\n",
       "      <th>name</th>\n",
       "      <th>date</th>\n",
       "      <th>viewcount</th>\n",
       "    </tr>\n",
       "  </thead>\n",
       "  <tbody>\n",
       "    <tr>\n",
       "      <th>0</th>\n",
       "      <td>11</td>\n",
       "      <td>엔플라잉 (N.Flying)</td>\n",
       "      <td>2021-04-18</td>\n",
       "      <td>130470</td>\n",
       "    </tr>\n",
       "    <tr>\n",
       "      <th>1</th>\n",
       "      <td>1819</td>\n",
       "      <td>경리 (나인뮤지스)</td>\n",
       "      <td>2021-04-18</td>\n",
       "      <td>360</td>\n",
       "    </tr>\n",
       "    <tr>\n",
       "      <th>2</th>\n",
       "      <td>1624</td>\n",
       "      <td>하동균</td>\n",
       "      <td>2021-04-18</td>\n",
       "      <td>27206</td>\n",
       "    </tr>\n",
       "    <tr>\n",
       "      <th>3</th>\n",
       "      <td>1412</td>\n",
       "      <td>Lim Kim</td>\n",
       "      <td>2021-04-18</td>\n",
       "      <td>12410</td>\n",
       "    </tr>\n",
       "    <tr>\n",
       "      <th>4</th>\n",
       "      <td>406</td>\n",
       "      <td>진</td>\n",
       "      <td>2021-04-18</td>\n",
       "      <td>80212</td>\n",
       "    </tr>\n",
       "    <tr>\n",
       "      <th>...</th>\n",
       "      <td>...</td>\n",
       "      <td>...</td>\n",
       "      <td>...</td>\n",
       "      <td>...</td>\n",
       "    </tr>\n",
       "    <tr>\n",
       "      <th>584008</th>\n",
       "      <td>1390</td>\n",
       "      <td>효린</td>\n",
       "      <td>2023-09-30</td>\n",
       "      <td>229198</td>\n",
       "    </tr>\n",
       "    <tr>\n",
       "      <th>584009</th>\n",
       "      <td>29</td>\n",
       "      <td>먼데이키즈 (Monday Kiz)</td>\n",
       "      <td>2023-09-30</td>\n",
       "      <td>267403</td>\n",
       "    </tr>\n",
       "    <tr>\n",
       "      <th>584010</th>\n",
       "      <td>1183</td>\n",
       "      <td>SG 워너비</td>\n",
       "      <td>2023-09-30</td>\n",
       "      <td>318909</td>\n",
       "    </tr>\n",
       "    <tr>\n",
       "      <th>584011</th>\n",
       "      <td>287</td>\n",
       "      <td>틴탑</td>\n",
       "      <td>2023-09-30</td>\n",
       "      <td>63236</td>\n",
       "    </tr>\n",
       "    <tr>\n",
       "      <th>584012</th>\n",
       "      <td>779</td>\n",
       "      <td>태민 (TAEMIN)</td>\n",
       "      <td>2023-09-30</td>\n",
       "      <td>145138</td>\n",
       "    </tr>\n",
       "  </tbody>\n",
       "</table>\n",
       "<p>584013 rows × 4 columns</p>\n",
       "</div>"
      ],
      "text/plain": [
       "          id                name       date  viewcount\n",
       "0         11     엔플라잉 (N.Flying) 2021-04-18     130470\n",
       "1       1819          경리 (나인뮤지스) 2021-04-18        360\n",
       "2       1624                 하동균 2021-04-18      27206\n",
       "3       1412             Lim Kim 2021-04-18      12410\n",
       "4        406                   진 2021-04-18      80212\n",
       "...      ...                 ...        ...        ...\n",
       "584008  1390                  효린 2023-09-30     229198\n",
       "584009    29  먼데이키즈 (Monday Kiz) 2023-09-30     267403\n",
       "584010  1183              SG 워너비 2023-09-30     318909\n",
       "584011   287                  틴탑 2023-09-30      63236\n",
       "584012   779         태민 (TAEMIN) 2023-09-30     145138\n",
       "\n",
       "[584013 rows x 4 columns]"
      ]
     },
     "execution_count": 6,
     "metadata": {},
     "output_type": "execute_result"
    }
   ],
   "source": [
    "df['date'] = pd.to_datetime(df['date'], format='%Y%m%d')\n",
    "df"
   ]
  },
  {
   "cell_type": "code",
   "execution_count": 7,
   "id": "24130a2a-fa13-4967-a39d-305bde9a1d08",
   "metadata": {},
   "outputs": [],
   "source": [
    "df_summed = df.groupby('date')['viewcount'].sum().reset_index()"
   ]
  },
  {
   "cell_type": "code",
   "execution_count": 8,
   "id": "60ef2387-cdab-4da1-a947-aabd958005c2",
   "metadata": {},
   "outputs": [
    {
     "data": {
      "text/html": [
       "<div>\n",
       "<style scoped>\n",
       "    .dataframe tbody tr th:only-of-type {\n",
       "        vertical-align: middle;\n",
       "    }\n",
       "\n",
       "    .dataframe tbody tr th {\n",
       "        vertical-align: top;\n",
       "    }\n",
       "\n",
       "    .dataframe thead th {\n",
       "        text-align: right;\n",
       "    }\n",
       "</style>\n",
       "<table border=\"1\" class=\"dataframe\">\n",
       "  <thead>\n",
       "    <tr style=\"text-align: right;\">\n",
       "      <th></th>\n",
       "      <th>date</th>\n",
       "      <th>viewcount</th>\n",
       "    </tr>\n",
       "  </thead>\n",
       "  <tbody>\n",
       "    <tr>\n",
       "      <th>0</th>\n",
       "      <td>2021-04-18</td>\n",
       "      <td>143766193</td>\n",
       "    </tr>\n",
       "    <tr>\n",
       "      <th>1</th>\n",
       "      <td>2021-04-19</td>\n",
       "      <td>151396196</td>\n",
       "    </tr>\n",
       "    <tr>\n",
       "      <th>2</th>\n",
       "      <td>2021-04-20</td>\n",
       "      <td>154802952</td>\n",
       "    </tr>\n",
       "    <tr>\n",
       "      <th>3</th>\n",
       "      <td>2021-04-21</td>\n",
       "      <td>159390870</td>\n",
       "    </tr>\n",
       "    <tr>\n",
       "      <th>4</th>\n",
       "      <td>2021-04-22</td>\n",
       "      <td>154424027</td>\n",
       "    </tr>\n",
       "    <tr>\n",
       "      <th>...</th>\n",
       "      <td>...</td>\n",
       "      <td>...</td>\n",
       "    </tr>\n",
       "    <tr>\n",
       "      <th>891</th>\n",
       "      <td>2023-09-26</td>\n",
       "      <td>183208309</td>\n",
       "    </tr>\n",
       "    <tr>\n",
       "      <th>892</th>\n",
       "      <td>2023-09-27</td>\n",
       "      <td>192905636</td>\n",
       "    </tr>\n",
       "    <tr>\n",
       "      <th>893</th>\n",
       "      <td>2023-09-28</td>\n",
       "      <td>182699650</td>\n",
       "    </tr>\n",
       "    <tr>\n",
       "      <th>894</th>\n",
       "      <td>2023-09-29</td>\n",
       "      <td>193305870</td>\n",
       "    </tr>\n",
       "    <tr>\n",
       "      <th>895</th>\n",
       "      <td>2023-09-30</td>\n",
       "      <td>193170672</td>\n",
       "    </tr>\n",
       "  </tbody>\n",
       "</table>\n",
       "<p>896 rows × 2 columns</p>\n",
       "</div>"
      ],
      "text/plain": [
       "          date  viewcount\n",
       "0   2021-04-18  143766193\n",
       "1   2021-04-19  151396196\n",
       "2   2021-04-20  154802952\n",
       "3   2021-04-21  159390870\n",
       "4   2021-04-22  154424027\n",
       "..         ...        ...\n",
       "891 2023-09-26  183208309\n",
       "892 2023-09-27  192905636\n",
       "893 2023-09-28  182699650\n",
       "894 2023-09-29  193305870\n",
       "895 2023-09-30  193170672\n",
       "\n",
       "[896 rows x 2 columns]"
      ]
     },
     "execution_count": 8,
     "metadata": {},
     "output_type": "execute_result"
    }
   ],
   "source": [
    "df_summed"
   ]
  },
  {
   "cell_type": "code",
   "execution_count": 9,
   "id": "1aa2dd54-a8b1-41f0-ab41-4040fccf0c0d",
   "metadata": {},
   "outputs": [
    {
     "data": {
      "text/plain": [
       "65390666795"
      ]
     },
     "execution_count": 9,
     "metadata": {},
     "output_type": "execute_result"
    }
   ],
   "source": [
    "# Replace 'specified_date' with the date you want to compare against (in datetime format)\n",
    "start_date = pd.to_datetime('2021-08-01') ### Change Here!\n",
    "end_date = pd.to_datetime('2022-08-01')\n",
    "df_summed_filtered = df_summed[(df_summed['date'] >= start_date) & (df_summed['date'] <= end_date)]\n",
    "df_summed_filtered['viewcount'].sum()"
   ]
  },
  {
   "cell_type": "code",
   "execution_count": 10,
   "id": "317a67e3-8a78-4bc2-af83-f8c731bc29df",
   "metadata": {},
   "outputs": [
    {
     "data": {
      "text/plain": [
       "67121118776"
      ]
     },
     "execution_count": 10,
     "metadata": {},
     "output_type": "execute_result"
    }
   ],
   "source": [
    "# Replace 'specified_date' with the date you want to compare against (in datetime format)\n",
    "start_date = pd.to_datetime('2022-08-01') ### Change Here!\n",
    "end_date = pd.to_datetime('2023-08-01')\n",
    "df_summed_filtered = df_summed[(df_summed['date'] >= start_date) & (df_summed['date'] <= end_date)]\n",
    "df_summed_filtered['viewcount'].sum()"
   ]
  },
  {
   "cell_type": "code",
   "execution_count": 12,
   "id": "c34c2aef-0605-45d5-a8d9-f5ce79384958",
   "metadata": {},
   "outputs": [
    {
     "data": {
      "text/plain": [
       "61663409310"
      ]
     },
     "execution_count": 12,
     "metadata": {},
     "output_type": "execute_result"
    }
   ],
   "source": [
    "# Replace 'specified_date' with the date you want to compare against (in datetime format)\n",
    "start_date = pd.to_datetime('2021-04-01') ### Change Here!\n",
    "end_date = pd.to_datetime('2022-04-01')\n",
    "df_summed_filtered = df_summed[(df_summed['date'] >= start_date) & (df_summed['date'] <= end_date)]\n",
    "df_summed_filtered['viewcount'].sum()"
   ]
  },
  {
   "cell_type": "code",
   "execution_count": 13,
   "id": "df3da707-d220-4c7a-8743-790d3ad1c4fb",
   "metadata": {},
   "outputs": [
    {
     "data": {
      "text/plain": [
       "64973786046"
      ]
     },
     "execution_count": 13,
     "metadata": {},
     "output_type": "execute_result"
    }
   ],
   "source": [
    "# Replace 'specified_date' with the date you want to compare against (in datetime format)\n",
    "start_date = pd.to_datetime('2022-04-01') ### Change Here!\n",
    "end_date = pd.to_datetime('2023-04-01')\n",
    "df_summed_filtered = df_summed[(df_summed['date'] >= start_date) & (df_summed['date'] <= end_date)]\n",
    "df_summed_filtered['viewcount'].sum()"
   ]
  },
  {
   "cell_type": "code",
   "execution_count": null,
   "id": "627ec893-82ac-4577-8667-4b771c5f4655",
   "metadata": {},
   "outputs": [],
   "source": []
  }
 ],
 "metadata": {
  "jupytext": {
   "formats": "ipynb,py:light"
  },
  "kernelspec": {
   "display_name": "Python 3 (ipykernel)",
   "language": "python",
   "name": "python3"
  },
  "language_info": {
   "codemirror_mode": {
    "name": "ipython",
    "version": 3
   },
   "file_extension": ".py",
   "mimetype": "text/x-python",
   "name": "python",
   "nbconvert_exporter": "python",
   "pygments_lexer": "ipython3",
   "version": "3.11.5"
  }
 },
 "nbformat": 4,
 "nbformat_minor": 5
}
